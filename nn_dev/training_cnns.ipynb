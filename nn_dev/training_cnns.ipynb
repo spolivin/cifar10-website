{
  "cells": [
    {
      "cell_type": "markdown",
      "metadata": {
        "id": "view-in-github",
        "colab_type": "text"
      },
      "source": [
        "<a href=\"https://colab.research.google.com/github/spolivin/cifar10-website/blob/master/nn_dev/training_cnns.ipynb\" target=\"_parent\"><img src=\"https://colab.research.google.com/assets/colab-badge.svg\" alt=\"Open In Colab\"/></a>"
      ]
    },
    {
      "cell_type": "markdown",
      "source": [
        "# Cloning files"
      ],
      "metadata": {
        "id": "x0Y19fwXn1YO"
      }
    },
    {
      "cell_type": "code",
      "source": [
        "!git clone https://github.com/spolivin/cifar10-website.git"
      ],
      "metadata": {
        "colab": {
          "base_uri": "https://localhost:8080/"
        },
        "id": "CjXGudqVksrc",
        "outputId": "c581c880-1c5a-4745-d1f7-0f10bd76c4c2"
      },
      "execution_count": null,
      "outputs": [
        {
          "output_type": "stream",
          "name": "stdout",
          "text": [
            "Cloning into 'cifar10-website'...\n",
            "remote: Enumerating objects: 27, done.\u001b[K\n",
            "remote: Counting objects: 100% (27/27), done.\u001b[K\n",
            "remote: Compressing objects: 100% (23/23), done.\u001b[K\n",
            "remote: Total 27 (delta 4), reused 24 (delta 1), pack-reused 0 (from 0)\u001b[K\n",
            "Receiving objects: 100% (27/27), 9.40 KiB | 4.70 MiB/s, done.\n",
            "Resolving deltas: 100% (4/4), done.\n"
          ]
        }
      ]
    },
    {
      "cell_type": "code",
      "source": [
        "%cd cifar10-website/nn_dev\n",
        "%ls"
      ],
      "metadata": {
        "colab": {
          "base_uri": "https://localhost:8080/"
        },
        "id": "FLdx0R2SnA0u",
        "outputId": "d930f78c-aefa-41da-a563-7b6380b73251"
      },
      "execution_count": null,
      "outputs": [
        {
          "output_type": "stream",
          "name": "stdout",
          "text": [
            "/content/cifar10-website/nn_dev\n",
            "\u001b[0m\u001b[01;34mpytorch_models\u001b[0m/  \u001b[01;34mpytorch_trainer\u001b[0m/\n"
          ]
        }
      ]
    },
    {
      "cell_type": "code",
      "execution_count": null,
      "metadata": {
        "id": "tdPFV6eSDMQc"
      },
      "outputs": [],
      "source": [
        "import torch\n",
        "import torch.nn as nn\n",
        "import torchvision\n",
        "import torchvision.transforms as transforms\n",
        "\n",
        "from pytorch_trainer.trainer import Trainer\n",
        "from pytorch_models import ednet4, resnet20\n",
        "\n",
        "BATCH_SIZE = 128"
      ]
    },
    {
      "cell_type": "code",
      "execution_count": null,
      "metadata": {
        "id": "HAJvkI4IDMQe"
      },
      "outputs": [],
      "source": [
        "train_transform = transforms.Compose(\n",
        "    [\n",
        "        # Data Augmentation (before normalization)\n",
        "        transforms.RandomCrop(32, padding=4),\n",
        "        transforms.RandomHorizontalFlip(),\n",
        "        # Conversion to tensor\n",
        "        transforms.ToTensor(),\n",
        "        # Normalization (after augmentation)\n",
        "        transforms.Normalize(mean=[0.4914, 0.4822, 0.4465], std=[0.247, 0.243, 0.261]),\n",
        "    ]\n",
        ")\n",
        "\n",
        "test_transform = transforms.Compose(\n",
        "    [\n",
        "        transforms.ToTensor(),\n",
        "        transforms.Normalize(mean=[0.4914, 0.4822, 0.4465], std=[0.247, 0.243, 0.261]),\n",
        "    ]\n",
        ")"
      ]
    },
    {
      "cell_type": "code",
      "execution_count": null,
      "metadata": {
        "colab": {
          "base_uri": "https://localhost:8080/"
        },
        "id": "u2ygvU70DMQe",
        "outputId": "ac2177b7-ae7a-4fab-e967-261898b7fa66"
      },
      "outputs": [
        {
          "output_type": "stream",
          "name": "stdout",
          "text": [
            "Downloading https://www.cs.toronto.edu/~kriz/cifar-10-python.tar.gz to ./data/cifar-10-python.tar.gz\n"
          ]
        },
        {
          "output_type": "stream",
          "name": "stderr",
          "text": [
            "100%|██████████| 170M/170M [00:03<00:00, 43.5MB/s]\n"
          ]
        },
        {
          "output_type": "stream",
          "name": "stdout",
          "text": [
            "Extracting ./data/cifar-10-python.tar.gz to ./data\n",
            "Files already downloaded and verified\n"
          ]
        }
      ],
      "source": [
        "# Create datasets for training & validation, download if necessary\n",
        "training_set = torchvision.datasets.CIFAR10(\n",
        "    root=\"./data\",\n",
        "    train=True,\n",
        "    transform=train_transform,\n",
        "    download=True,\n",
        ")\n",
        "\n",
        "other_set = torchvision.datasets.CIFAR10(\n",
        "    root=\"./data\",\n",
        "    train=False,\n",
        "    transform=test_transform,\n",
        "    download=True,\n",
        ")"
      ]
    },
    {
      "cell_type": "code",
      "execution_count": null,
      "metadata": {
        "id": "PW0j9oMiDMQf"
      },
      "outputs": [],
      "source": [
        "#training_set = torch.utils.data.Subset(training_set, torch.arange(10000))\n",
        "validation_set = torch.utils.data.Subset(other_set, torch.arange(1000, len(other_set)))\n",
        "testing_set = torch.utils.data.Subset(other_set, torch.arange(1000))\n",
        "\n",
        "# Create data loaders for our datasets; shuffle for training, not for validation\n",
        "training_loader = torch.utils.data.DataLoader(\n",
        "    training_set, batch_size=BATCH_SIZE, shuffle=True\n",
        ")\n",
        "validation_loader = torch.utils.data.DataLoader(\n",
        "    validation_set, batch_size=BATCH_SIZE, shuffle=False\n",
        ")\n",
        "testing_loader = torch.utils.data.DataLoader(\n",
        "    testing_set, batch_size=BATCH_SIZE, shuffle=False\n",
        ")"
      ]
    },
    {
      "cell_type": "markdown",
      "metadata": {
        "id": "xmtvy2Y4DMQf"
      },
      "source": [
        "## Custom CNN"
      ]
    },
    {
      "cell_type": "code",
      "execution_count": null,
      "metadata": {
        "id": "uBZS-q2KDMQg"
      },
      "outputs": [],
      "source": [
        "encoder_decoder_model = ednet4()"
      ]
    },
    {
      "cell_type": "code",
      "execution_count": null,
      "metadata": {
        "id": "-GCA50yVDMQg"
      },
      "outputs": [],
      "source": [
        "# Defining the loss function (multiclass classification)\n",
        "loss_func = nn.CrossEntropyLoss()\n",
        "\n",
        "optimizer = torch.optim.SGD(encoder_decoder_model.parameters(), lr=0.25, momentum=0.75)"
      ]
    },
    {
      "cell_type": "code",
      "execution_count": null,
      "metadata": {
        "id": "xtc6nckPDMQg"
      },
      "outputs": [],
      "source": [
        "trainer_ed = Trainer(\n",
        "    model=encoder_decoder_model,\n",
        "    criterion=loss_func,\n",
        "    optimizer=optimizer,\n",
        "    train_loader=training_loader,\n",
        "    valid_loader=validation_loader,\n",
        ")\n",
        "\n",
        "trainer_ed.set_scheduler(\n",
        "    scheduler_class=torch.optim.lr_scheduler.StepLR,\n",
        "    scheduler_params={\n",
        "        \"step_size\": 3,\n",
        "        \"gamma\": 0.1,\n",
        "    },\n",
        "    level=\"epoch\")"
      ]
    },
    {
      "cell_type": "code",
      "execution_count": null,
      "metadata": {
        "colab": {
          "base_uri": "https://localhost:8080/"
        },
        "id": "Hr06JROhDMQg",
        "outputId": "9d70017e-629e-4fb2-a468-436701efb91e"
      },
      "outputs": [
        {
          "output_type": "stream",
          "name": "stderr",
          "text": [
            "Epoch 1/1 [Training]: 100%|██████████| 391/391 [00:23<00:00, 16.39batches/s, lr=0.25]\n",
            "Epoch 1/1 [Validation]: 100%|██████████| 71/71 [00:02<00:00, 30.75batches/s, loss=(1.7665, 1.3197), acc=(0.3433, 0.5284)]\n"
          ]
        }
      ],
      "source": [
        "trainer_ed.run(\n",
        "    epochs=1,\n",
        "    seed=42,\n",
        "    enable_tqdm=True,\n",
        ")"
      ]
    },
    {
      "cell_type": "markdown",
      "source": [
        "## ResNet - 20 layers"
      ],
      "metadata": {
        "id": "2Jd18oKebAb8"
      }
    },
    {
      "cell_type": "code",
      "source": [
        "resnet_20 = resnet20()"
      ],
      "metadata": {
        "id": "HjxIJfEEbCUu"
      },
      "execution_count": null,
      "outputs": []
    },
    {
      "cell_type": "code",
      "source": [
        "# Defining the loss function (multiclass classification)\n",
        "loss_func = nn.CrossEntropyLoss()\n",
        "\n",
        "optimizer = torch.optim.SGD(resnet_20.parameters(), lr=0.25, momentum=0.75)"
      ],
      "metadata": {
        "id": "0MTRCJq8bC12"
      },
      "execution_count": null,
      "outputs": []
    },
    {
      "cell_type": "code",
      "source": [
        "trainer_resnet = Trainer(\n",
        "    model=resnet_20,\n",
        "    criterion=loss_func,\n",
        "    optimizer=optimizer,\n",
        "    train_loader=training_loader,\n",
        "    valid_loader=validation_loader,\n",
        ")\n",
        "\n",
        "trainer_resnet.set_scheduler(\n",
        "    scheduler_class=torch.optim.lr_scheduler.StepLR,\n",
        "    scheduler_params={\n",
        "        \"step_size\": 3,\n",
        "        \"gamma\": 0.1,\n",
        "    },\n",
        "    level=\"epoch\")"
      ],
      "metadata": {
        "id": "TtQP9UQMbCzX"
      },
      "execution_count": null,
      "outputs": []
    },
    {
      "cell_type": "code",
      "source": [
        "trainer_resnet.run(\n",
        "    epochs=10,\n",
        "    seed=42,\n",
        "    enable_tqdm=True,\n",
        ")"
      ],
      "metadata": {
        "colab": {
          "base_uri": "https://localhost:8080/"
        },
        "id": "jdbhVuMzbCw6",
        "outputId": "1e2d3496-91ae-4c24-a677-6b0382106006"
      },
      "execution_count": null,
      "outputs": [
        {
          "output_type": "stream",
          "name": "stderr",
          "text": [
            "Epoch 1/10 [Training]: 100%|██████████| 391/391 [00:32<00:00, 11.98batches/s, lr=0.25]\n",
            "Epoch 1/10 [Validation]: 100%|██████████| 71/71 [00:03<00:00, 23.32batches/s, loss=(1.6817, 1.4808), acc=(0.3678, 0.4387)]\n",
            "Epoch 2/10 [Training]: 100%|██████████| 391/391 [00:31<00:00, 12.33batches/s, lr=0.25]\n",
            "Epoch 2/10 [Validation]: 100%|██████████| 71/71 [00:03<00:00, 20.18batches/s, loss=(1.1871, 1.25), acc=(0.5691, 0.5584)]\n",
            "Epoch 3/10 [Training]: 100%|██████████| 391/391 [00:31<00:00, 12.28batches/s, lr=0.25]\n",
            "Epoch 3/10 [Validation]: 100%|██████████| 71/71 [00:02<00:00, 25.11batches/s, loss=(0.9323, 0.9781), acc=(0.6678, 0.6679)]\n",
            "Epoch 4/10 [Training]: 100%|██████████| 391/391 [00:32<00:00, 11.98batches/s, lr=0.025]\n",
            "Epoch 4/10 [Validation]: 100%|██████████| 71/71 [00:02<00:00, 25.68batches/s, loss=(0.7052, 0.697), acc=(0.7524, 0.7647)]\n",
            "Epoch 5/10 [Training]: 100%|██████████| 391/391 [00:32<00:00, 12.08batches/s, lr=0.025]\n",
            "Epoch 5/10 [Validation]: 100%|██████████| 71/71 [00:02<00:00, 25.71batches/s, loss=(0.6536, 0.6587), acc=(0.771, 0.775)]\n",
            "Epoch 6/10 [Training]: 100%|██████████| 391/391 [00:32<00:00, 12.14batches/s, lr=0.025]\n",
            "Epoch 6/10 [Validation]: 100%|██████████| 71/71 [00:02<00:00, 24.74batches/s, loss=(0.626, 0.6365), acc=(0.7789, 0.7818)]\n",
            "Epoch 7/10 [Training]: 100%|██████████| 391/391 [00:31<00:00, 12.33batches/s, lr=0.0025]\n",
            "Epoch 7/10 [Validation]: 100%|██████████| 71/71 [00:03<00:00, 20.45batches/s, loss=(0.5934, 0.6159), acc=(0.7916, 0.7903)]\n",
            "Epoch 8/10 [Training]: 100%|██████████| 391/391 [00:33<00:00, 11.50batches/s, lr=0.0025]\n",
            "Epoch 8/10 [Validation]: 100%|██████████| 71/71 [00:03<00:00, 18.23batches/s, loss=(0.5869, 0.6119), acc=(0.795, 0.7918)]\n",
            "Epoch 9/10 [Training]: 100%|██████████| 391/391 [00:32<00:00, 12.17batches/s, lr=0.0025]\n",
            "Epoch 9/10 [Validation]: 100%|██████████| 71/71 [00:02<00:00, 24.73batches/s, loss=(0.5828, 0.6111), acc=(0.7952, 0.792)]\n",
            "Epoch 10/10 [Training]: 100%|██████████| 391/391 [00:32<00:00, 11.87batches/s, lr=0.00025]\n",
            "Epoch 10/10 [Validation]: 100%|██████████| 71/71 [00:02<00:00, 25.37batches/s, loss=(0.5806, 0.6088), acc=(0.7969, 0.7942)]\n"
          ]
        }
      ]
    }
  ],
  "metadata": {
    "kernelspec": {
      "display_name": "Python 3",
      "name": "python3"
    },
    "language_info": {
      "codemirror_mode": {
        "name": "ipython",
        "version": 3
      },
      "file_extension": ".py",
      "mimetype": "text/x-python",
      "name": "python",
      "nbconvert_exporter": "python",
      "pygments_lexer": "ipython3",
      "version": "3.12.1"
    },
    "colab": {
      "provenance": [],
      "include_colab_link": true
    }
  },
  "nbformat": 4,
  "nbformat_minor": 0
}